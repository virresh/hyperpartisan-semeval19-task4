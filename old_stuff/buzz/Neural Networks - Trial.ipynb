{
 "cells": [
  {
   "cell_type": "code",
   "execution_count": 2,
   "metadata": {},
   "outputs": [],
   "source": [
    "import pandas as pd\n",
    "import numpy as np\n",
    "import matplotlib.pyplot as plt\n",
    "import tensorflow as tf"
   ]
  },
  {
   "cell_type": "code",
   "execution_count": 5,
   "metadata": {},
   "outputs": [],
   "source": [
    "labels = []\n",
    "text = []\n",
    "ids = []\n",
    "with open('test_data.txt', 'r') as data_file:\n",
    "    for line in data_file:\n",
    "        article_text = line[7:]\n",
    "        label = int(line[5])\n",
    "        article_id = line[:4]\n",
    "        labels.append(label)\n",
    "        text.append(article_text.lower().replace('\\n',' '))\n",
    "        # text.append(word_tokenize(article_text))\n",
    "        ids.append(article_id)"
   ]
  },
  {
   "cell_type": "code",
   "execution_count": null,
   "metadata": {},
   "outputs": [],
   "source": [
    "from sklearn.feature_extraction.text import CountVectorizer\n",
    "from sklearn.model_selection import train_test_split\n",
    "\n",
    "\n",
    "count_vec = CountVectorizer(analyzer='char_wb')\n",
    "\n",
    "trainX, testX, trainY, testY = train_test_split(text, labels, test_size=0.2)\n",
    "\n",
    "def create_cnn(inp_size):\n",
    "    # Add an Input Layer\n",
    "    input_layer = layers.Input((inp_size, ))\n",
    "\n",
    "    # embedding layer learnt from above\n",
    "    embedding_layer = layers.Embedding(vocab_size, 200)(input_layer)\n",
    "\n",
    "    # add dropout on this layer\n",
    "    embedding_layer = layers.SpatialDropout1D(0.3)(embedding_layer)\n",
    "\n",
    "    # Add the convolutional Layer\n",
    "    conv_layer = layers.Convolution1D(100, 3, activation=\"tanh\")(embedding_layer)\n",
    "\n",
    "    # Add the pooling Layer\n",
    "    pooling_layer = layers.GlobalMaxPool1D()(conv_layer)\n",
    "\n",
    "    # Add the output Layers\n",
    "    output_layer1 = layers.Dense(50, activation=\"relu\")(pooling_layer)\n",
    "    output_layer1 = layers.Dropout(0.25)(output_layer1)\n",
    "    output_layer2 = layers.Dense(1, activation=\"sigmoid\")(output_layer1)\n",
    "\n",
    "    # Compile the model\n",
    "    model = models.Model(inputs=input_layer, outputs=output_layer2)\n",
    "    model.compile(optimizer=optimizers.Adam(), loss='binary_crossentropy', metrics=['accuracy'])\n",
    "    \n",
    "    return model\n"
   ]
  }
 ],
 "metadata": {
  "kernelspec": {
   "display_name": "Python 3.6 (NLP)",
   "language": "python",
   "name": "nlp_env"
  },
  "language_info": {
   "codemirror_mode": {
    "name": "ipython",
    "version": 3
   },
   "file_extension": ".py",
   "mimetype": "text/x-python",
   "name": "python",
   "nbconvert_exporter": "python",
   "pygments_lexer": "ipython3",
   "version": "3.6.7"
  }
 },
 "nbformat": 4,
 "nbformat_minor": 2
}
