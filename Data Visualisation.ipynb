{
 "cells": [
  {
   "cell_type": "markdown",
   "metadata": {},
   "source": [
    "# Dataset Visualisation SemEval Task 4\n",
    "Hyperpartisan News detection"
   ]
  },
  {
   "cell_type": "markdown",
   "metadata": {},
   "source": [
    "##### Ignore the warning below"
   ]
  },
  {
   "cell_type": "code",
   "execution_count": 44,
   "metadata": {},
   "outputs": [],
   "source": [
    "import pandas as pd\n",
    "import matplotlib as mpl\n",
    "import numpy as np\n",
    "\n",
    "# Tune maxlimit because... we have LOTS of data\n",
    "mpl.rcParams['agg.path.chunksize'] = 100000\n",
    "mpl.rcParams['savefig.dpi'] = 1000\n",
    "plt = mpl.pyplot\n",
    "\n",
    "df = pd.read_csv('output/consolidated.csv')"
   ]
  },
  {
   "cell_type": "code",
   "execution_count": 45,
   "metadata": {},
   "outputs": [
    {
     "name": "stdout",
     "output_type": "stream",
     "text": [
      "          articleId  content_length    title_length  hyperpartisan  \\\n",
      "count  1.000000e+06  1000000.000000  1000000.000000      1000000.0   \n",
      "mean   7.724636e+05     4611.406966       59.475444            0.5   \n",
      "std    4.289178e+05     7079.726960       58.501440            0.5   \n",
      "min    1.000000e+00       28.000000        0.000000            0.0   \n",
      "25%    3.952780e+05     1578.000000       39.000000            0.0   \n",
      "50%    8.189150e+05     3002.000000       54.000000            0.5   \n",
      "75%    1.137630e+06     5356.000000       68.000000            1.0   \n",
      "max    1.494892e+06   718864.000000    13338.000000            1.0   \n",
      "\n",
      "          orientation  \n",
      "count  1000000.000000  \n",
      "mean        -0.303740  \n",
      "std          7.473908  \n",
      "min        -10.000000  \n",
      "25%         -6.250000  \n",
      "50%          0.000000  \n",
      "75%          6.250000  \n",
      "max         10.000000   \n",
      "\n",
      "Index(['articleId', 'content_length', 'title_length', 'article_date',\n",
      "       'hyperpartisan', 'orientation'],\n",
      "      dtype='object')\n"
     ]
    }
   ],
   "source": [
    "print(df.describe(),'\\n')\n",
    "print(df.columns)"
   ]
  },
  {
   "cell_type": "markdown",
   "metadata": {},
   "source": [
    "### Remove None Dates"
   ]
  },
  {
   "cell_type": "code",
   "execution_count": 46,
   "metadata": {},
   "outputs": [
    {
     "data": {
      "text/html": [
       "<div>\n",
       "<style scoped>\n",
       "    .dataframe tbody tr th:only-of-type {\n",
       "        vertical-align: middle;\n",
       "    }\n",
       "\n",
       "    .dataframe tbody tr th {\n",
       "        vertical-align: top;\n",
       "    }\n",
       "\n",
       "    .dataframe thead th {\n",
       "        text-align: right;\n",
       "    }\n",
       "</style>\n",
       "<table border=\"1\" class=\"dataframe\">\n",
       "  <thead>\n",
       "    <tr style=\"text-align: right;\">\n",
       "      <th></th>\n",
       "      <th>articleId</th>\n",
       "      <th>content_length</th>\n",
       "      <th>title_length</th>\n",
       "      <th>article_date</th>\n",
       "      <th>hyperpartisan</th>\n",
       "      <th>orientation</th>\n",
       "    </tr>\n",
       "  </thead>\n",
       "  <tbody>\n",
       "    <tr>\n",
       "      <th>0</th>\n",
       "      <td>1</td>\n",
       "      <td>1868</td>\n",
       "      <td>121</td>\n",
       "      <td>2017-09-10</td>\n",
       "      <td>1</td>\n",
       "      <td>10</td>\n",
       "    </tr>\n",
       "    <tr>\n",
       "      <th>1</th>\n",
       "      <td>2</td>\n",
       "      <td>1498</td>\n",
       "      <td>69</td>\n",
       "      <td>2017-05-05</td>\n",
       "      <td>1</td>\n",
       "      <td>10</td>\n",
       "    </tr>\n",
       "    <tr>\n",
       "      <th>2</th>\n",
       "      <td>8</td>\n",
       "      <td>1831</td>\n",
       "      <td>62</td>\n",
       "      <td>2017-11-15</td>\n",
       "      <td>0</td>\n",
       "      <td>5</td>\n",
       "    </tr>\n",
       "    <tr>\n",
       "      <th>3</th>\n",
       "      <td>9</td>\n",
       "      <td>8524</td>\n",
       "      <td>53</td>\n",
       "      <td>2015-06-10</td>\n",
       "      <td>0</td>\n",
       "      <td>0</td>\n",
       "    </tr>\n",
       "    <tr>\n",
       "      <th>5</th>\n",
       "      <td>12</td>\n",
       "      <td>2908</td>\n",
       "      <td>50</td>\n",
       "      <td>2016-09-26</td>\n",
       "      <td>1</td>\n",
       "      <td>10</td>\n",
       "    </tr>\n",
       "  </tbody>\n",
       "</table>\n",
       "</div>"
      ],
      "text/plain": [
       "   articleId  content_length  title_length article_date  hyperpartisan  \\\n",
       "0          1            1868           121   2017-09-10              1   \n",
       "1          2            1498            69   2017-05-05              1   \n",
       "2          8            1831            62   2017-11-15              0   \n",
       "3          9            8524            53   2015-06-10              0   \n",
       "5         12            2908            50   2016-09-26              1   \n",
       "\n",
       "   orientation  \n",
       "0           10  \n",
       "1           10  \n",
       "2            5  \n",
       "3            0  \n",
       "5           10  "
      ]
     },
     "execution_count": 46,
     "metadata": {},
     "output_type": "execute_result"
    }
   ],
   "source": [
    "date_less = df[df['article_date']!='None']\n",
    "# print(date_less.info())\n",
    "\n",
    "date_less = date_less[(date_less['article_date']!='0201-04-10') & (date_less['article_date']!='0200-01-02')]\n",
    "date_less['article_date'] = pd.to_datetime(date_less['article_date'], format='%Y-%m-%d')\n",
    "date_less.head()"
   ]
  },
  {
   "cell_type": "markdown",
   "metadata": {},
   "source": [
    "#### Plot "
   ]
  },
  {
   "cell_type": "markdown",
   "metadata": {},
   "source": [
    "Not so interesting plots of date vs length of articles."
   ]
  },
  {
   "cell_type": "code",
   "execution_count": 47,
   "metadata": {},
   "outputs": [
    {
     "data": {
      "image/png": "[encoded data removed]",
      "text/plain": [
       "<Figure size 432x288 with 1 Axes>"
      ]
     },
     "metadata": {
      "needs_background": "light"
     },
     "output_type": "display_data"
    },
    {
     "data": {
      "image/png": "[encoded data removed]",
      "text/plain": [
       "<Figure size 432x288 with 1 Axes>"
      ]
     },
     "metadata": {
      "needs_background": "light"
     },
     "output_type": "display_data"
    }
   ],
   "source": [
    "date_less.plot('article_date', 'title_length', style='.')\n",
    "plt.savefig('figures/date_vs_title_len.png')\n",
    "date_less.plot('article_date', 'content_length', c='g', style='.')\n",
    "plt.savefig('figures/date_vs_content_len.png')"
   ]
  },
  {
   "cell_type": "markdown",
   "metadata": {},
   "source": [
    "Some more plots, depicting ground truth."
   ]
  },
  {
   "cell_type": "code",
   "execution_count": 48,
   "metadata": {},
   "outputs": [
    {
     "data": {
      "image/png": "[encoded data removed]",
      "text/plain": [
       "<Figure size 432x288 with 1 Axes>"
      ]
     },
     "metadata": {
      "needs_background": "light"
     },
     "output_type": "display_data"
    }
   ],
   "source": [
    "hyper_part = date_less[date_less['hyperpartisan']==1]\n",
    "normal = date_less[date_less['hyperpartisan']==0]\n",
    "ax = hyper_part.plot('article_date', 'orientation', c='r', style='.')\n",
    "normal.plot('article_date', 'orientation', c='g', ax=ax, style='.')\n",
    "plt.savefig('figures/date_vs_orientation.png')"
   ]
  }
 ],
 "metadata": {
  "kernelspec": {
   "display_name": "Python 3",
   "language": "python",
   "name": "python3"
  },
  "language_info": {
   "codemirror_mode": {
    "name": "ipython",
    "version": 3
   },
   "file_extension": ".py",
   "mimetype": "text/x-python",
   "name": "python",
   "nbconvert_exporter": "python",
   "pygments_lexer": "ipython3",
   "version": "3.6.5"
  }
 },
 "nbformat": 4,
 "nbformat_minor": 2
}
